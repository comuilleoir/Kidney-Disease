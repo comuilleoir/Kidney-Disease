{
 "cells": [
  {
   "cell_type": "code",
   "execution_count": 120,
   "metadata": {},
   "outputs": [
    {
     "data": {
      "text/html": [
       "<div>\n",
       "<style scoped>\n",
       "    .dataframe tbody tr th:only-of-type {\n",
       "        vertical-align: middle;\n",
       "    }\n",
       "\n",
       "    .dataframe tbody tr th {\n",
       "        vertical-align: top;\n",
       "    }\n",
       "\n",
       "    .dataframe thead th {\n",
       "        text-align: right;\n",
       "    }\n",
       "</style>\n",
       "<table border=\"1\" class=\"dataframe\">\n",
       "  <thead>\n",
       "    <tr style=\"text-align: right;\">\n",
       "      <th></th>\n",
       "      <th>bp (Diastolic)</th>\n",
       "      <th>bp limit</th>\n",
       "      <th>sg</th>\n",
       "      <th>al</th>\n",
       "      <th>class</th>\n",
       "      <th>rbc</th>\n",
       "      <th>su</th>\n",
       "      <th>pc</th>\n",
       "      <th>pcc</th>\n",
       "      <th>ba</th>\n",
       "      <th>...</th>\n",
       "      <th>htn</th>\n",
       "      <th>dm</th>\n",
       "      <th>cad</th>\n",
       "      <th>appet</th>\n",
       "      <th>pe</th>\n",
       "      <th>ane</th>\n",
       "      <th>grf</th>\n",
       "      <th>stage</th>\n",
       "      <th>affected</th>\n",
       "      <th>age</th>\n",
       "    </tr>\n",
       "  </thead>\n",
       "  <tbody>\n",
       "    <tr>\n",
       "      <th>0</th>\n",
       "      <td>1</td>\n",
       "      <td>0</td>\n",
       "      <td>≥ 1.023</td>\n",
       "      <td>&lt; 0</td>\n",
       "      <td>ckd</td>\n",
       "      <td>0</td>\n",
       "      <td>&lt; 0</td>\n",
       "      <td>1</td>\n",
       "      <td>0</td>\n",
       "      <td>0</td>\n",
       "      <td>...</td>\n",
       "      <td>0</td>\n",
       "      <td>0</td>\n",
       "      <td>0</td>\n",
       "      <td>0</td>\n",
       "      <td>0</td>\n",
       "      <td>0</td>\n",
       "      <td>76.949 - 102.115</td>\n",
       "      <td>s2</td>\n",
       "      <td>1</td>\n",
       "      <td>51 - 59</td>\n",
       "    </tr>\n",
       "    <tr>\n",
       "      <th>1</th>\n",
       "      <td>1</td>\n",
       "      <td>2</td>\n",
       "      <td>1.019 - 1.021</td>\n",
       "      <td>&lt; 0</td>\n",
       "      <td>ckd</td>\n",
       "      <td>0</td>\n",
       "      <td>&lt; 0</td>\n",
       "      <td>0</td>\n",
       "      <td>0</td>\n",
       "      <td>1</td>\n",
       "      <td>...</td>\n",
       "      <td>1</td>\n",
       "      <td>1</td>\n",
       "      <td>1</td>\n",
       "      <td>0</td>\n",
       "      <td>0</td>\n",
       "      <td>1</td>\n",
       "      <td>&lt; 26.6175</td>\n",
       "      <td>s3</td>\n",
       "      <td>1</td>\n",
       "      <td>43 - 51</td>\n",
       "    </tr>\n",
       "    <tr>\n",
       "      <th>2</th>\n",
       "      <td>1</td>\n",
       "      <td>2</td>\n",
       "      <td>1.015 - 1.017</td>\n",
       "      <td>1 - 1</td>\n",
       "      <td>ckd</td>\n",
       "      <td>0</td>\n",
       "      <td>2 - 2</td>\n",
       "      <td>1</td>\n",
       "      <td>1</td>\n",
       "      <td>0</td>\n",
       "      <td>...</td>\n",
       "      <td>1</td>\n",
       "      <td>1</td>\n",
       "      <td>1</td>\n",
       "      <td>0</td>\n",
       "      <td>0</td>\n",
       "      <td>1</td>\n",
       "      <td>&lt; 26.6175</td>\n",
       "      <td>s5</td>\n",
       "      <td>1</td>\n",
       "      <td>51 - 59</td>\n",
       "    </tr>\n",
       "    <tr>\n",
       "      <th>3</th>\n",
       "      <td>1</td>\n",
       "      <td>0</td>\n",
       "      <td>≥ 1.023</td>\n",
       "      <td>&lt; 0</td>\n",
       "      <td>notckd</td>\n",
       "      <td>0</td>\n",
       "      <td>&lt; 0</td>\n",
       "      <td>0</td>\n",
       "      <td>0</td>\n",
       "      <td>0</td>\n",
       "      <td>...</td>\n",
       "      <td>0</td>\n",
       "      <td>0</td>\n",
       "      <td>0</td>\n",
       "      <td>0</td>\n",
       "      <td>0</td>\n",
       "      <td>0</td>\n",
       "      <td>26.6175 - 51.7832</td>\n",
       "      <td>s3</td>\n",
       "      <td>1</td>\n",
       "      <td>12 - 20</td>\n",
       "    </tr>\n",
       "    <tr>\n",
       "      <th>4</th>\n",
       "      <td>1</td>\n",
       "      <td>1</td>\n",
       "      <td>≥ 1.023</td>\n",
       "      <td>&lt; 0</td>\n",
       "      <td>notckd</td>\n",
       "      <td>0</td>\n",
       "      <td>&lt; 0</td>\n",
       "      <td>0</td>\n",
       "      <td>0</td>\n",
       "      <td>0</td>\n",
       "      <td>...</td>\n",
       "      <td>0</td>\n",
       "      <td>0</td>\n",
       "      <td>0</td>\n",
       "      <td>0</td>\n",
       "      <td>0</td>\n",
       "      <td>0</td>\n",
       "      <td>152.446 - 177.612</td>\n",
       "      <td>s3</td>\n",
       "      <td>1</td>\n",
       "      <td>43 - 51</td>\n",
       "    </tr>\n",
       "  </tbody>\n",
       "</table>\n",
       "<p>5 rows × 29 columns</p>\n",
       "</div>"
      ],
      "text/plain": [
       "   bp (Diastolic)  bp limit             sg     al   class  rbc     su  pc  \\\n",
       "0               1         0        ≥ 1.023    < 0     ckd    0    < 0   1   \n",
       "1               1         2  1.019 - 1.021    < 0     ckd    0    < 0   0   \n",
       "2               1         2  1.015 - 1.017  1 - 1     ckd    0  2 - 2   1   \n",
       "3               1         0        ≥ 1.023    < 0  notckd    0    < 0   0   \n",
       "4               1         1        ≥ 1.023    < 0  notckd    0    < 0   0   \n",
       "\n",
       "   pcc  ba  ... htn dm cad appet pe ane                grf stage affected  \\\n",
       "0    0   0  ...   0  0   0     0  0   0   76.949 - 102.115    s2        1   \n",
       "1    0   1  ...   1  1   1     0  0   1          < 26.6175    s3        1   \n",
       "2    1   0  ...   1  1   1     0  0   1          < 26.6175    s5        1   \n",
       "3    0   0  ...   0  0   0     0  0   0  26.6175 - 51.7832    s3        1   \n",
       "4    0   0  ...   0  0   0     0  0   0  152.446 - 177.612    s3        1   \n",
       "\n",
       "       age  \n",
       "0  51 - 59  \n",
       "1  43 - 51  \n",
       "2  51 - 59  \n",
       "3  12 - 20  \n",
       "4  43 - 51  \n",
       "\n",
       "[5 rows x 29 columns]"
      ]
     },
     "execution_count": 120,
     "metadata": {},
     "output_type": "execute_result"
    }
   ],
   "source": [
    "# predict incidence of kidney disease using medical data and linear regression\n",
    "\n",
    "import pandas as pd\n",
    "import numpy as np\n",
    "import matplotlib.pyplot as plt\n",
    "import seaborn as sns\n",
    "from scipy.stats import randint\n",
    "from sklearn.model_selection import train_test_split\n",
    "from sklearn.preprocessing import StandardScaler, LabelEncoder\n",
    "from sklearn.linear_model import LogisticRegression\n",
    "from sklearn.metrics import accuracy_score, confusion_matrix, classification_report, roc_auc_score, roc_curve, balanced_accuracy_score\n",
    "from sklearn.model_selection import GridSearchCV, RandomizedSearchCV\n",
    "from sklearn.feature_selection import RFE\n",
    "from sklearn.ensemble import RandomForestClassifier\n",
    "from sklearn.neural_network import MLPClassifier\n",
    "\n",
    "# load data\n",
    "ckd_data = pd.read_csv('ckd synth 100k.csv')\n",
    "ckd_data.head()"
   ]
  },
  {
   "cell_type": "code",
   "execution_count": 121,
   "metadata": {},
   "outputs": [
    {
     "data": {
      "text/plain": [
       "bp (Diastolic)    0\n",
       "bp limit          0\n",
       "sg                0\n",
       "al                0\n",
       "class             0\n",
       "rbc               0\n",
       "su                0\n",
       "pc                0\n",
       "pcc               0\n",
       "ba                0\n",
       "bgr               0\n",
       "bu                0\n",
       "sod               0\n",
       "sc                0\n",
       "pot               0\n",
       "hemo              0\n",
       "pcv               0\n",
       "rbcc              0\n",
       "wbcc              0\n",
       "htn               0\n",
       "dm                0\n",
       "cad               0\n",
       "appet             0\n",
       "pe                0\n",
       "ane               0\n",
       "grf               0\n",
       "stage             0\n",
       "affected          0\n",
       "age               0\n",
       "dtype: int64"
      ]
     },
     "execution_count": 121,
     "metadata": {},
     "output_type": "execute_result"
    }
   ],
   "source": [
    "# check for missing values\n",
    "ckd_data.isnull().sum()"
   ]
  },
  {
   "cell_type": "code",
   "execution_count": 122,
   "metadata": {},
   "outputs": [],
   "source": [
    "# remove stage as it is a subset of classification\n",
    "ckd_data.drop('stage', axis=1, inplace=True)"
   ]
  },
  {
   "cell_type": "code",
   "execution_count": 123,
   "metadata": {},
   "outputs": [
    {
     "data": {
      "text/plain": [
       "1507"
      ]
     },
     "execution_count": 123,
     "metadata": {},
     "output_type": "execute_result"
    }
   ],
   "source": [
    "# check for duplicate values\n",
    "ckd_data.duplicated().sum()\n"
   ]
  },
  {
   "cell_type": "code",
   "execution_count": 124,
   "metadata": {},
   "outputs": [
    {
     "data": {
      "text/plain": [
       "0"
      ]
     },
     "execution_count": 124,
     "metadata": {},
     "output_type": "execute_result"
    }
   ],
   "source": [
    "# remove duplicate values\n",
    "ckd_data.drop_duplicates(inplace=True)\n",
    "ckd_data.duplicated().sum()"
   ]
  },
  {
   "cell_type": "code",
   "execution_count": 125,
   "metadata": {},
   "outputs": [
    {
     "data": {
      "text/plain": [
       "bp (Diastolic)     int64\n",
       "bp limit           int64\n",
       "sg                object\n",
       "al                object\n",
       "class             object\n",
       "rbc                int64\n",
       "su                object\n",
       "pc                 int64\n",
       "pcc                int64\n",
       "ba                 int64\n",
       "bgr               object\n",
       "bu                object\n",
       "sod               object\n",
       "sc                object\n",
       "pot               object\n",
       "hemo              object\n",
       "pcv               object\n",
       "rbcc              object\n",
       "wbcc              object\n",
       "htn                int64\n",
       "dm                 int64\n",
       "cad                int64\n",
       "appet              int64\n",
       "pe                 int64\n",
       "ane                int64\n",
       "grf               object\n",
       "affected           int64\n",
       "age               object\n",
       "dtype: object"
      ]
     },
     "execution_count": 125,
     "metadata": {},
     "output_type": "execute_result"
    }
   ],
   "source": [
    "# correctly identify the column data types\n",
    "ckd_data.dtypes"
   ]
  },
  {
   "cell_type": "code",
   "execution_count": 126,
   "metadata": {},
   "outputs": [
    {
     "data": {
      "text/html": [
       "<div>\n",
       "<style scoped>\n",
       "    .dataframe tbody tr th:only-of-type {\n",
       "        vertical-align: middle;\n",
       "    }\n",
       "\n",
       "    .dataframe tbody tr th {\n",
       "        vertical-align: top;\n",
       "    }\n",
       "\n",
       "    .dataframe thead th {\n",
       "        text-align: right;\n",
       "    }\n",
       "</style>\n",
       "<table border=\"1\" class=\"dataframe\">\n",
       "  <thead>\n",
       "    <tr style=\"text-align: right;\">\n",
       "      <th></th>\n",
       "      <th>bp (Diastolic)</th>\n",
       "      <th>bp limit</th>\n",
       "      <th>sg</th>\n",
       "      <th>al</th>\n",
       "      <th>class</th>\n",
       "      <th>rbc</th>\n",
       "      <th>su</th>\n",
       "      <th>pc</th>\n",
       "      <th>pcc</th>\n",
       "      <th>ba</th>\n",
       "      <th>...</th>\n",
       "      <th>wbcc</th>\n",
       "      <th>htn</th>\n",
       "      <th>dm</th>\n",
       "      <th>cad</th>\n",
       "      <th>appet</th>\n",
       "      <th>pe</th>\n",
       "      <th>ane</th>\n",
       "      <th>grf</th>\n",
       "      <th>affected</th>\n",
       "      <th>age</th>\n",
       "    </tr>\n",
       "  </thead>\n",
       "  <tbody>\n",
       "    <tr>\n",
       "      <th>0</th>\n",
       "      <td>1</td>\n",
       "      <td>0</td>\n",
       "      <td>≥ 1.023</td>\n",
       "      <td>&lt; 0</td>\n",
       "      <td>ckd</td>\n",
       "      <td>0</td>\n",
       "      <td>&lt; 0</td>\n",
       "      <td>1</td>\n",
       "      <td>0</td>\n",
       "      <td>0</td>\n",
       "      <td>...</td>\n",
       "      <td>9740 - 12120</td>\n",
       "      <td>0</td>\n",
       "      <td>0</td>\n",
       "      <td>0</td>\n",
       "      <td>0</td>\n",
       "      <td>0</td>\n",
       "      <td>0</td>\n",
       "      <td>76.949 - 102.115</td>\n",
       "      <td>1</td>\n",
       "      <td>51 - 59</td>\n",
       "    </tr>\n",
       "    <tr>\n",
       "      <th>1</th>\n",
       "      <td>1</td>\n",
       "      <td>2</td>\n",
       "      <td>1.019 - 1.021</td>\n",
       "      <td>&lt; 0</td>\n",
       "      <td>ckd</td>\n",
       "      <td>0</td>\n",
       "      <td>&lt; 0</td>\n",
       "      <td>0</td>\n",
       "      <td>0</td>\n",
       "      <td>1</td>\n",
       "      <td>...</td>\n",
       "      <td>7360 - 9740</td>\n",
       "      <td>1</td>\n",
       "      <td>1</td>\n",
       "      <td>1</td>\n",
       "      <td>0</td>\n",
       "      <td>0</td>\n",
       "      <td>1</td>\n",
       "      <td>&lt; 26.6175</td>\n",
       "      <td>1</td>\n",
       "      <td>43 - 51</td>\n",
       "    </tr>\n",
       "    <tr>\n",
       "      <th>2</th>\n",
       "      <td>1</td>\n",
       "      <td>2</td>\n",
       "      <td>1.015 - 1.017</td>\n",
       "      <td>1 - 1</td>\n",
       "      <td>ckd</td>\n",
       "      <td>0</td>\n",
       "      <td>2 - 2</td>\n",
       "      <td>1</td>\n",
       "      <td>1</td>\n",
       "      <td>0</td>\n",
       "      <td>...</td>\n",
       "      <td>&lt; 4980</td>\n",
       "      <td>1</td>\n",
       "      <td>1</td>\n",
       "      <td>1</td>\n",
       "      <td>0</td>\n",
       "      <td>0</td>\n",
       "      <td>1</td>\n",
       "      <td>&lt; 26.6175</td>\n",
       "      <td>1</td>\n",
       "      <td>51 - 59</td>\n",
       "    </tr>\n",
       "    <tr>\n",
       "      <th>3</th>\n",
       "      <td>1</td>\n",
       "      <td>0</td>\n",
       "      <td>≥ 1.023</td>\n",
       "      <td>&lt; 0</td>\n",
       "      <td>notckd</td>\n",
       "      <td>0</td>\n",
       "      <td>&lt; 0</td>\n",
       "      <td>0</td>\n",
       "      <td>0</td>\n",
       "      <td>0</td>\n",
       "      <td>...</td>\n",
       "      <td>4980 - 7360</td>\n",
       "      <td>0</td>\n",
       "      <td>0</td>\n",
       "      <td>0</td>\n",
       "      <td>0</td>\n",
       "      <td>0</td>\n",
       "      <td>0</td>\n",
       "      <td>26.6175 - 51.7832</td>\n",
       "      <td>1</td>\n",
       "      <td>12 - 20</td>\n",
       "    </tr>\n",
       "    <tr>\n",
       "      <th>4</th>\n",
       "      <td>1</td>\n",
       "      <td>1</td>\n",
       "      <td>≥ 1.023</td>\n",
       "      <td>&lt; 0</td>\n",
       "      <td>notckd</td>\n",
       "      <td>0</td>\n",
       "      <td>&lt; 0</td>\n",
       "      <td>0</td>\n",
       "      <td>0</td>\n",
       "      <td>0</td>\n",
       "      <td>...</td>\n",
       "      <td>9740 - 12120</td>\n",
       "      <td>0</td>\n",
       "      <td>0</td>\n",
       "      <td>0</td>\n",
       "      <td>0</td>\n",
       "      <td>0</td>\n",
       "      <td>0</td>\n",
       "      <td>152.446 - 177.612</td>\n",
       "      <td>1</td>\n",
       "      <td>43 - 51</td>\n",
       "    </tr>\n",
       "  </tbody>\n",
       "</table>\n",
       "<p>5 rows × 28 columns</p>\n",
       "</div>"
      ],
      "text/plain": [
       "   bp (Diastolic)  bp limit             sg     al   class  rbc     su  pc  \\\n",
       "0               1         0        ≥ 1.023    < 0     ckd    0    < 0   1   \n",
       "1               1         2  1.019 - 1.021    < 0     ckd    0    < 0   0   \n",
       "2               1         2  1.015 - 1.017  1 - 1     ckd    0  2 - 2   1   \n",
       "3               1         0        ≥ 1.023    < 0  notckd    0    < 0   0   \n",
       "4               1         1        ≥ 1.023    < 0  notckd    0    < 0   0   \n",
       "\n",
       "   pcc  ba  ...          wbcc htn dm cad appet pe ane                grf  \\\n",
       "0    0   0  ...  9740 - 12120   0  0   0     0  0   0   76.949 - 102.115   \n",
       "1    0   1  ...   7360 - 9740   1  1   1     0  0   1          < 26.6175   \n",
       "2    1   0  ...        < 4980   1  1   1     0  0   1          < 26.6175   \n",
       "3    0   0  ...   4980 - 7360   0  0   0     0  0   0  26.6175 - 51.7832   \n",
       "4    0   0  ...  9740 - 12120   0  0   0     0  0   0  152.446 - 177.612   \n",
       "\n",
       "  affected      age  \n",
       "0        1  51 - 59  \n",
       "1        1  43 - 51  \n",
       "2        1  51 - 59  \n",
       "3        1  12 - 20  \n",
       "4        1  43 - 51  \n",
       "\n",
       "[5 rows x 28 columns]"
      ]
     },
     "execution_count": 126,
     "metadata": {},
     "output_type": "execute_result"
    }
   ],
   "source": [
    "ckd_data.head()"
   ]
  },
  {
   "cell_type": "code",
   "execution_count": 127,
   "metadata": {},
   "outputs": [
    {
     "data": {
      "text/plain": [
       "1    71035\n",
       "0    27458\n",
       "Name: affected, dtype: int64"
      ]
     },
     "execution_count": 127,
     "metadata": {},
     "output_type": "execute_result"
    }
   ],
   "source": [
    "# count of number of affected patients\n",
    "ckd_data['affected'].value_counts()"
   ]
  },
  {
   "cell_type": "code",
   "execution_count": 128,
   "metadata": {},
   "outputs": [
    {
     "data": {
      "text/plain": [
       "Index(['sg', 'al', 'class', 'su', 'bgr', 'bu', 'sod', 'sc', 'pot', 'hemo',\n",
       "       'pcv', 'rbcc', 'wbcc', 'grf', 'age'],\n",
       "      dtype='object')"
      ]
     },
     "execution_count": 128,
     "metadata": {},
     "output_type": "execute_result"
    }
   ],
   "source": [
    "# check for categorical variables\n",
    "to_dummy = ckd_data.select_dtypes(include=['object']).columns\n",
    "to_dummy"
   ]
  },
  {
   "cell_type": "code",
   "execution_count": 129,
   "metadata": {},
   "outputs": [],
   "source": [
    "# create dummy variables for categorical variables\n",
    "ckd_dummied = pd.get_dummies(ckd_data, columns=to_dummy, drop_first=True)"
   ]
  },
  {
   "cell_type": "code",
   "execution_count": 130,
   "metadata": {},
   "outputs": [
    {
     "data": {
      "text/plain": [
       "(98493, 113)"
      ]
     },
     "execution_count": 130,
     "metadata": {},
     "output_type": "execute_result"
    }
   ],
   "source": [
    "# count variables\n",
    "ckd_dummied.shape"
   ]
  },
  {
   "cell_type": "code",
   "execution_count": 131,
   "metadata": {},
   "outputs": [],
   "source": [
    "def ModelReport(y_test, y_pred):\n",
    "    # model results\n",
    "    print(\"Accuracy: \", accuracy_score(y_test, y_pred))\n",
    "    print(\"Confusion Matrix: \\n\", confusion_matrix(y_test, y_pred))\n",
    "    print(\"Classification Report: \\n\", classification_report(y_test, y_pred))\n",
    "    print(\"ROC AUC Score: \", roc_auc_score(y_test, y_pred))\n",
    "\n",
    "    # ROC curve to evaluate model fit\n",
    "    fpr, tpr, thresholds = roc_curve(y_test, y_pred)\n",
    "    plt.plot(fpr, tpr)\n",
    "    plt.plot([0, 1], [0, 1], 'k--')\n",
    "    plt.xlabel('False Positive Rate')\n",
    "    plt.ylabel('True Positive Rate')\n",
    "    plt.title('ROC Curve')\n",
    "    plt.show()"
   ]
  },
  {
   "cell_type": "code",
   "execution_count": 132,
   "metadata": {},
   "outputs": [
    {
     "name": "stdout",
     "output_type": "stream",
     "text": [
      "Accuracy:  0.8895375399766485\n",
      "Confusion Matrix: \n",
      " [[ 4388  1033]\n",
      " [ 1143 13135]]\n",
      "Classification Report: \n",
      "               precision    recall  f1-score   support\n",
      "\n",
      "           0       0.79      0.81      0.80      5421\n",
      "           1       0.93      0.92      0.92     14278\n",
      "\n",
      "    accuracy                           0.89     19699\n",
      "   macro avg       0.86      0.86      0.86     19699\n",
      "weighted avg       0.89      0.89      0.89     19699\n",
      "\n",
      "ROC AUC Score:  0.8646957615736367\n"
     ]
    },
    {
     "data": {
      "image/png": "[encoded data removed]",
      "text/plain": [
       "<Figure size 432x288 with 1 Axes>"
      ]
     },
     "metadata": {
      "needs_background": "light"
     },
     "output_type": "display_data"
    }
   ],
   "source": [
    "# As the outcome variable is binary, we can use logistic regression\n",
    "\n",
    "# testing and training data\n",
    "X = ckd_dummied.drop(['affected'], axis=1)\n",
    "y = ckd_dummied['affected']\n",
    "\n",
    "# split data into training and testing data\n",
    "X_train, X_test, y_train, y_test = train_test_split(X, y, test_size=0.20, random_state=20144717)\n",
    "\n",
    "# preprocess data\n",
    "scaler = StandardScaler()\n",
    "X_train_scaled = scaler.fit_transform(X_train)\n",
    "X_test_scaled = scaler.transform(X_test)\n",
    "\n",
    "# fit logistic regression model\n",
    "logreg = LogisticRegression(random_state=20144717)\n",
    "logreg.fit(X_train_scaled, y_train)\n",
    "\n",
    "# predict outcome on test data\n",
    "y_pred = logreg.predict(X_test_scaled)\n",
    "y_pred\n",
    "\n",
    "ModelReport(y_test, y_pred)"
   ]
  },
  {
   "cell_type": "code",
   "execution_count": 133,
   "metadata": {},
   "outputs": [
    {
     "data": {
      "text/plain": [
       "1    56757\n",
       "0    22037\n",
       "Name: affected, dtype: int64"
      ]
     },
     "execution_count": 133,
     "metadata": {},
     "output_type": "execute_result"
    }
   ],
   "source": [
    "# count of number of affected and unaffected patients in the training data\n",
    "y_train.value_counts()"
   ]
  },
  {
   "cell_type": "code",
   "execution_count": 134,
   "metadata": {},
   "outputs": [
    {
     "data": {
      "text/plain": [
       "[('bp (Diastolic)', False, 3),\n",
       " ('bp limit', True, 1),\n",
       " ('rbc', True, 1),\n",
       " ('pc', True, 1),\n",
       " ('pcc', True, 1),\n",
       " ('ba', True, 1),\n",
       " ('htn', True, 1),\n",
       " ('dm', True, 1),\n",
       " ('cad', True, 1),\n",
       " ('appet', True, 1),\n",
       " ('pe', True, 1),\n",
       " ('ane', True, 1),\n",
       " ('sg_1.015 - 1.017', False, 2),\n",
       " ('sg_1.019 - 1.021', True, 1),\n",
       " ('sg_< 1.007', False, 3),\n",
       " ('sg_≥ 1.023', True, 1),\n",
       " ('al_2 - 2', False, 3),\n",
       " ('al_3 - 3', True, 1),\n",
       " ('al_< 0', True, 1),\n",
       " ('al_≥ 4', False, 2),\n",
       " ('class_notckd', True, 1),\n",
       " ('su_2 - 2', True, 1),\n",
       " ('su_3 - 4', False, 2),\n",
       " ('su_4 - 4', True, 1),\n",
       " ('su_< 0', True, 1),\n",
       " ('su_≥ 4', True, 1),\n",
       " ('bgr_154 - 196', True, 1),\n",
       " ('bgr_196 - 238', True, 1),\n",
       " ('bgr_238 - 280', True, 1),\n",
       " ('bgr_280 - 322', True, 1),\n",
       " ('bgr_322 - 364', False, 3),\n",
       " ('bgr_364 - 406', False, 3),\n",
       " ('bgr_406 - 448', False, 3),\n",
       " ('bgr_< 112', False, 3),\n",
       " ('bgr_≥ 448', False, 3),\n",
       " ('bu_162.4 - 200.5', False, 3),\n",
       " ('bu_200.5 - 238.6', False, 3),\n",
       " ('bu_238.6 - 276.7', False, 3),\n",
       " ('bu_48.1 - 86.2', False, 3),\n",
       " ('bu_86.2 - 124.3', False, 3),\n",
       " ('bu_< 48.1', True, 1),\n",
       " ('bu_≥ 352.9', False, 3),\n",
       " ('sod_123 - 128', False, 3),\n",
       " ('sod_128 - 133', True, 1),\n",
       " ('sod_133 - 138', True, 1),\n",
       " ('sod_138 - 143', False, 3),\n",
       " ('sod_143 - 148', True, 1),\n",
       " ('sod_148 - 153', True, 1),\n",
       " ('sod_< 118', False, 3),\n",
       " ('sod_≥ 158', False, 3),\n",
       " ('sc_16.25 - 19.4', False, 3),\n",
       " ('sc_3.65 - 6.8', True, 1),\n",
       " ('sc_6.8 - 9.95', False, 3),\n",
       " ('sc_9.95 - 13.1', False, 3),\n",
       " ('sc_< 3.65', True, 1),\n",
       " ('sc_≥ 28.85', False, 3),\n",
       " ('pot_7.31 - 11.72', False, 3),\n",
       " ('pot_< 7.31', False, 3),\n",
       " ('pot_≥ 42.59', False, 3),\n",
       " ('hemo_11.3 - 12.6', True, 1),\n",
       " ('hemo_12.6 - 13.9', True, 1),\n",
       " ('hemo_13.9 - 15.2', True, 1),\n",
       " ('hemo_15.2 - 16.5', True, 1),\n",
       " ('hemo_6.1 - 7.4', False, 3),\n",
       " ('hemo_7.4 - 8.7', False, 3),\n",
       " ('hemo_8.7 - 10', False, 3),\n",
       " ('hemo_< 6.1', False, 3),\n",
       " ('hemo_≥ 16.5', True, 1),\n",
       " ('pcv_21.8 - 25.7', False, 3),\n",
       " ('pcv_25.7 - 29.6', False, 3),\n",
       " ('pcv_29.6 - 33.5', False, 3),\n",
       " ('pcv_33.5 - 37.4', True, 1),\n",
       " ('pcv_37.4 - 41.3', True, 1),\n",
       " ('pcv_41.3 - 45.2', True, 1),\n",
       " ('pcv_45.2 - 49.1', True, 1),\n",
       " ('pcv_< 17.9', False, 3),\n",
       " ('pcv_≥ 49.1', True, 1),\n",
       " ('rbcc_3.28 - 3.87', False, 3),\n",
       " ('rbcc_3.87 - 4.46', False, 3),\n",
       " ('rbcc_4.46 - 5.05', True, 1),\n",
       " ('rbcc_5.05 - 5.64', True, 1),\n",
       " ('rbcc_5.64 - 6.23', True, 1),\n",
       " ('rbcc_6.23 - 6.82', True, 1),\n",
       " ('rbcc_< 2.69', False, 3),\n",
       " ('rbcc_≥ 7.41', False, 3),\n",
       " ('wbcc_14500 - 16880', True, 1),\n",
       " ('wbcc_16880 - 19260', False, 3),\n",
       " ('wbcc_19260 - 21640', False, 3),\n",
       " ('wbcc_4980 - 7360', False, 2),\n",
       " ('wbcc_7360 - 9740', False, 3),\n",
       " ('wbcc_9740 - 12120', False, 2),\n",
       " ('wbcc_< 4980', False, 3),\n",
       " ('wbcc_≥ 24020', False, 3),\n",
       " ('grf_102.115 - 127.281', True, 1),\n",
       " ('grf_127.281 - 152.446', True, 1),\n",
       " ('grf_152.446 - 177.612', True, 1),\n",
       " ('grf_177.612 - 202.778', True, 1),\n",
       " ('grf_202.778 - 227.944', False, 3),\n",
       " ('grf_26.6175 - 51.7832', False, 3),\n",
       " ('grf_51.7832 - 76.949', True, 1),\n",
       " ('grf_76.949 - 102.115', True, 1),\n",
       " ('grf_< 26.6175', True, 1),\n",
       " ('grf_≥ 227.944', False, 3),\n",
       " ('age_20 - 27', False, 3),\n",
       " ('age_27 - 35', False, 2),\n",
       " ('age_35 - 43', False, 3),\n",
       " ('age_43 - 51', True, 1),\n",
       " ('age_51 - 59', True, 1),\n",
       " ('age_59 - 66', True, 1),\n",
       " ('age_66 - 74', False, 3),\n",
       " ('age_< 12', False, 3),\n",
       " ('age_≥ 74', False, 3)]"
      ]
     },
     "execution_count": 134,
     "metadata": {},
     "output_type": "execute_result"
    }
   ],
   "source": [
    "# employ recursive feature elimination to reduce the number of features\n",
    "\n",
    "logreg = LogisticRegression(random_state=20144717)\n",
    "rfe = RFE(logreg, step = 50)\n",
    "rfe = rfe.fit(X_train_scaled, y_train)\n",
    "\n",
    "# check which features are selected\n",
    "list(zip(X_train.columns, rfe.support_, rfe.ranking_))"
   ]
  },
  {
   "cell_type": "code",
   "execution_count": 135,
   "metadata": {},
   "outputs": [
    {
     "name": "stdout",
     "output_type": "stream",
     "text": [
      "Intercept : [3.36917121]\n",
      "Accuracy : 0.889283719985786\n"
     ]
    }
   ],
   "source": [
    "# build model with selected features\n",
    "rfe_var = X_train.columns[rfe.support_]\n",
    "\n",
    "X_train_red = X_train[rfe_var]\n",
    "X_test_red = X_test[rfe_var]\n",
    "\n",
    "rfe_lr = LogisticRegression(random_state=20144717)\n",
    "rfe_lr.fit(X_train_red, y_train)\n",
    "\n",
    "# model summary\n",
    "print(\"Intercept :\", rfe_lr.intercept_)\n",
    "\n",
    "# predict outcome on test data\n",
    "y_pred_rfe = rfe_lr.predict(X_test_red)\n",
    "print(\"Accuracy :\", accuracy_score(y_test, y_pred_rfe))"
   ]
  },
  {
   "cell_type": "markdown",
   "metadata": {},
   "source": [
    "#### As there are a large number of dimensions once dummies are created, an alternative approach will be explored"
   ]
  },
  {
   "cell_type": "code",
   "execution_count": 136,
   "metadata": {},
   "outputs": [],
   "source": [
    "ckd_labelled = ckd_data.copy()\n",
    "\n",
    "# Encode labels to the categorical variables\n",
    "\n",
    "le = LabelEncoder()\n",
    "to_label = ckd_labelled.select_dtypes(include=['object']).columns\n",
    "for col in to_label:\n",
    "    ckd_labelled[col] = le.fit_transform(ckd_labelled[col])"
   ]
  },
  {
   "cell_type": "code",
   "execution_count": 137,
   "metadata": {},
   "outputs": [
    {
     "name": "stdout",
     "output_type": "stream",
     "text": [
      "Accuracy:  0.8828426395939086\n",
      "Confusion Matrix: \n",
      " [[2160  534]\n",
      " [ 620 6536]]\n",
      "Classification Report: \n",
      "               precision    recall  f1-score   support\n",
      "\n",
      "           0       0.78      0.80      0.79      2694\n",
      "           1       0.92      0.91      0.92      7156\n",
      "\n",
      "    accuracy                           0.88      9850\n",
      "   macro avg       0.85      0.86      0.85      9850\n",
      "weighted avg       0.88      0.88      0.88      9850\n",
      "\n",
      "ROC AUC Score:  0.8575705779317059\n"
     ]
    },
    {
     "data": {
      "image/png": "[encoded data removed]",
      "text/plain": [
       "<Figure size 432x288 with 1 Axes>"
      ]
     },
     "metadata": {
      "needs_background": "light"
     },
     "output_type": "display_data"
    }
   ],
   "source": [
    "# testing and training data\n",
    "X = ckd_labelled.drop(['affected'], axis=1)\n",
    "y = ckd_labelled['affected']\n",
    "\n",
    "# split data into training and testing data\n",
    "X_train, X_test, y_train, y_test = train_test_split(X, y, test_size=0.10, random_state=20144717)\n",
    "\n",
    "# preprocess data\n",
    "scaler = StandardScaler()\n",
    "X_train_scaled = scaler.fit_transform(X_train)\n",
    "X_test_scaled = scaler.transform(X_test)\n",
    "\n",
    "# fit logistic regression model\n",
    "logreg = LogisticRegression(random_state=20144717)\n",
    "logreg.fit(X_train_scaled, y_train)\n",
    "\n",
    "# predict outcome on test data\n",
    "y_pred = logreg.predict(X_test_scaled)\n",
    "y_pred\n",
    "\n",
    "ModelReport(y_test, y_pred)"
   ]
  },
  {
   "cell_type": "code",
   "execution_count": 138,
   "metadata": {},
   "outputs": [
    {
     "name": "stderr",
     "output_type": "stream",
     "text": [
      "c:\\Users\\ciano\\AppData\\Local\\Programs\\Python\\Python310\\lib\\site-packages\\sklearn\\model_selection\\_validation.py:378: FitFailedWarning: \n",
      "200 fits failed out of a total of 450.\n",
      "The score on these train-test partitions for these parameters will be set to nan.\n",
      "If these failures are not expected, you can try to debug them by setting error_score='raise'.\n",
      "\n",
      "Below are more details about the failures:\n",
      "--------------------------------------------------------------------------------\n",
      "50 fits failed with the following error:\n",
      "Traceback (most recent call last):\n",
      "  File \"c:\\Users\\ciano\\AppData\\Local\\Programs\\Python\\Python310\\lib\\site-packages\\sklearn\\model_selection\\_validation.py\", line 686, in _fit_and_score\n",
      "    estimator.fit(X_train, y_train, **fit_params)\n",
      "  File \"c:\\Users\\ciano\\AppData\\Local\\Programs\\Python\\Python310\\lib\\site-packages\\sklearn\\linear_model\\_logistic.py\", line 1091, in fit\n",
      "    solver = _check_solver(self.solver, self.penalty, self.dual)\n",
      "  File \"c:\\Users\\ciano\\AppData\\Local\\Programs\\Python\\Python310\\lib\\site-packages\\sklearn\\linear_model\\_logistic.py\", line 61, in _check_solver\n",
      "    raise ValueError(\n",
      "ValueError: Solver lbfgs supports only 'l2' or 'none' penalties, got l1 penalty.\n",
      "\n",
      "--------------------------------------------------------------------------------\n",
      "50 fits failed with the following error:\n",
      "Traceback (most recent call last):\n",
      "  File \"c:\\Users\\ciano\\AppData\\Local\\Programs\\Python\\Python310\\lib\\site-packages\\sklearn\\model_selection\\_validation.py\", line 686, in _fit_and_score\n",
      "    estimator.fit(X_train, y_train, **fit_params)\n",
      "  File \"c:\\Users\\ciano\\AppData\\Local\\Programs\\Python\\Python310\\lib\\site-packages\\sklearn\\linear_model\\_logistic.py\", line 1091, in fit\n",
      "    solver = _check_solver(self.solver, self.penalty, self.dual)\n",
      "  File \"c:\\Users\\ciano\\AppData\\Local\\Programs\\Python\\Python310\\lib\\site-packages\\sklearn\\linear_model\\_logistic.py\", line 71, in _check_solver\n",
      "    raise ValueError(\n",
      "ValueError: Only 'saga' solver supports elasticnet penalty, got solver=liblinear.\n",
      "\n",
      "--------------------------------------------------------------------------------\n",
      "50 fits failed with the following error:\n",
      "Traceback (most recent call last):\n",
      "  File \"c:\\Users\\ciano\\AppData\\Local\\Programs\\Python\\Python310\\lib\\site-packages\\sklearn\\model_selection\\_validation.py\", line 686, in _fit_and_score\n",
      "    estimator.fit(X_train, y_train, **fit_params)\n",
      "  File \"c:\\Users\\ciano\\AppData\\Local\\Programs\\Python\\Python310\\lib\\site-packages\\sklearn\\linear_model\\_logistic.py\", line 1101, in fit\n",
      "    raise ValueError(\n",
      "ValueError: l1_ratio must be between 0 and 1; got (l1_ratio=None)\n",
      "\n",
      "--------------------------------------------------------------------------------\n",
      "50 fits failed with the following error:\n",
      "Traceback (most recent call last):\n",
      "  File \"c:\\Users\\ciano\\AppData\\Local\\Programs\\Python\\Python310\\lib\\site-packages\\sklearn\\model_selection\\_validation.py\", line 686, in _fit_and_score\n",
      "    estimator.fit(X_train, y_train, **fit_params)\n",
      "  File \"c:\\Users\\ciano\\AppData\\Local\\Programs\\Python\\Python310\\lib\\site-packages\\sklearn\\linear_model\\_logistic.py\", line 1091, in fit\n",
      "    solver = _check_solver(self.solver, self.penalty, self.dual)\n",
      "  File \"c:\\Users\\ciano\\AppData\\Local\\Programs\\Python\\Python310\\lib\\site-packages\\sklearn\\linear_model\\_logistic.py\", line 61, in _check_solver\n",
      "    raise ValueError(\n",
      "ValueError: Solver lbfgs supports only 'l2' or 'none' penalties, got elasticnet penalty.\n",
      "\n",
      "  warnings.warn(some_fits_failed_message, FitFailedWarning)\n",
      "c:\\Users\\ciano\\AppData\\Local\\Programs\\Python\\Python310\\lib\\site-packages\\sklearn\\model_selection\\_search.py:953: UserWarning: One or more of the test scores are non-finite: [0.88640947 0.88640947        nan 0.88648845 0.88646588 0.88646588\n",
      "        nan        nan        nan 0.88647716 0.88648844        nan\n",
      " 0.88646588 0.88647716 0.88647716        nan        nan        nan\n",
      " 0.88647716 0.88647716        nan 0.88648844 0.88647716 0.88647716\n",
      "        nan        nan        nan 0.88647716 0.88647716        nan\n",
      " 0.88647716 0.88647716 0.88647716        nan        nan        nan\n",
      " 0.88647716 0.88647716        nan 0.88647716 0.88647716 0.88647716\n",
      "        nan        nan        nan]\n",
      "  warnings.warn(\n"
     ]
    },
    {
     "name": "stdout",
     "output_type": "stream",
     "text": [
      "Best parameters : {'C': 0.1, 'penalty': 'l2', 'solver': 'liblinear'}\n",
      "Best score : 0.8864884455663675\n"
     ]
    }
   ],
   "source": [
    "# use paramerter tuning to find the best parameters for the model\n",
    "# not all of these parameters are universally compatible, this will return a number of errors\n",
    "param_grid = {'C': [0.1, 1, 10, 100, 1000], 'penalty': ['l1', 'l2', 'elasticnet'], 'solver': ['liblinear', 'saga', 'lbfgs']}\n",
    "grid_search = GridSearchCV(LogisticRegression(random_state=20144717), param_grid, cv=10)\n",
    "grid_search.fit(X_train_scaled, y_train)\n",
    "\n",
    "# check the best parameters\n",
    "print(\"Best parameters :\", grid_search.best_params_)\n",
    "best_param = grid_search.best_params_\n",
    "\n",
    "# check the best score\n",
    "print(\"Best score :\", grid_search.best_score_)"
   ]
  },
  {
   "cell_type": "code",
   "execution_count": 139,
   "metadata": {},
   "outputs": [
    {
     "name": "stdout",
     "output_type": "stream",
     "text": [
      "Accuracy:  0.882741116751269\n",
      "Confusion Matrix: \n",
      " [[2160  534]\n",
      " [ 621 6535]]\n",
      "Classification Report: \n",
      "               precision    recall  f1-score   support\n",
      "\n",
      "           0       0.78      0.80      0.79      2694\n",
      "           1       0.92      0.91      0.92      7156\n",
      "\n",
      "    accuracy                           0.88      9850\n",
      "   macro avg       0.85      0.86      0.85      9850\n",
      "weighted avg       0.88      0.88      0.88      9850\n",
      "\n",
      "ROC AUC Score:  0.8575007064951492\n"
     ]
    },
    {
     "data": {
      "image/png": "[encoded data removed]",
      "text/plain": [
       "<Figure size 432x288 with 1 Axes>"
      ]
     },
     "metadata": {
      "needs_background": "light"
     },
     "output_type": "display_data"
    }
   ],
   "source": [
    "# use the best parameters to build the model\n",
    "logreg_best = LogisticRegression(C=best_param['C'], penalty=best_param['penalty'], solver=best_param['solver'], random_state=20144717)\n",
    "logreg_best.fit(X_train_scaled, y_train)\n",
    "\n",
    "# predict outcome on test data\n",
    "y_pred = logreg_best.predict(X_test_scaled)\n",
    "y_pred\n",
    "\n",
    "ModelReport(y_test, y_pred)"
   ]
  },
  {
   "cell_type": "markdown",
   "metadata": {},
   "source": [
    "#### We seem to have reached the limit of what is possible through logistic regression, and will explore "
   ]
  },
  {
   "cell_type": "code",
   "execution_count": 140,
   "metadata": {},
   "outputs": [
    {
     "name": "stdout",
     "output_type": "stream",
     "text": [
      "Accuracy:  0.8831472081218275\n",
      "Confusion Matrix: \n",
      " [[2068  626]\n",
      " [ 525 6631]]\n",
      "Classification Report: \n",
      "               precision    recall  f1-score   support\n",
      "\n",
      "           0       0.80      0.77      0.78      2694\n",
      "           1       0.91      0.93      0.92      7156\n",
      "\n",
      "    accuracy                           0.88      9850\n",
      "   macro avg       0.86      0.85      0.85      9850\n",
      "weighted avg       0.88      0.88      0.88      9850\n",
      "\n",
      "ROC AUC Score:  0.8471333829643581\n"
     ]
    },
    {
     "data": {
      "image/png": "[encoded data removed]",
      "text/plain": [
       "<Figure size 432x288 with 1 Axes>"
      ]
     },
     "metadata": {
      "needs_background": "light"
     },
     "output_type": "display_data"
    }
   ],
   "source": [
    "# apply a random forest classifier to the data\n",
    "rf = RandomForestClassifier(n_estimators=100, max_depth=5, random_state=20144717)\n",
    "rf.fit(X_train_scaled, y_train)\n",
    "\n",
    "# predict outcome on test data\n",
    "y_pred = rf.predict(X_test_scaled)\n",
    "y_pred\n",
    "\n",
    "ModelReport(y_test, y_pred)"
   ]
  },
  {
   "cell_type": "code",
   "execution_count": 141,
   "metadata": {},
   "outputs": [
    {
     "name": "stdout",
     "output_type": "stream",
     "text": [
      "{'bootstrap': False, 'max_depth': 7, 'max_features': 5, 'min_samples_leaf': 2, 'min_samples_split': 2, 'n_estimators': 152}\n",
      "0.8867913983818742\n"
     ]
    }
   ],
   "source": [
    "# tune the parameters for the random forest classifier using random search\n",
    "param_dist = {'n_estimators': randint(low=10, high=200),\n",
    "                'max_depth': randint(low=1, high=10),\n",
    "                'min_samples_split': randint(low=2, high=10),\n",
    "                'min_samples_leaf': randint(low=1, high=10),\n",
    "                'max_features': randint(low=1, high=28),\n",
    "                'bootstrap': [True, False]}\n",
    "\n",
    "random_search = RandomizedSearchCV(rf, param_distributions=param_dist, n_iter=10, cv=3, scoring='f1_weighted', random_state=20144717)\n",
    "random_search.fit(X_train_scaled, y_train)\n",
    "best_p = random_search.best_params_\n",
    "print(random_search.best_params_)\n",
    "print(random_search.best_score_)"
   ]
  },
  {
   "cell_type": "code",
   "execution_count": 142,
   "metadata": {},
   "outputs": [
    {
     "name": "stdout",
     "output_type": "stream",
     "text": [
      "Accuracy:  0.8848730964467005\n",
      "Confusion Matrix: \n",
      " [[2098  596]\n",
      " [ 538 6618]]\n",
      "Classification Report: \n",
      "               precision    recall  f1-score   support\n",
      "\n",
      "           0       0.80      0.78      0.79      2694\n",
      "           1       0.92      0.92      0.92      7156\n",
      "\n",
      "    accuracy                           0.88      9850\n",
      "   macro avg       0.86      0.85      0.85      9850\n",
      "weighted avg       0.88      0.88      0.88      9850\n",
      "\n",
      "ROC AUC Score:  0.8517929830196329\n"
     ]
    },
    {
     "data": {
      "image/png": "[encoded data removed]",
      "text/plain": [
       "<Figure size 432x288 with 1 Axes>"
      ]
     },
     "metadata": {
      "needs_background": "light"
     },
     "output_type": "display_data"
    }
   ],
   "source": [
    "# use the best parameters to build the rf model\n",
    "rf_best = RandomForestClassifier(n_estimators=best_p['n_estimators'], max_depth=best_p['max_depth'], \n",
    "                                min_samples_split=best_p['min_samples_split'], min_samples_leaf=best_p['min_samples_leaf'], \n",
    "                                max_features=best_p['max_features'], bootstrap=best_p['bootstrap'], random_state=20144717)\n",
    "rf_best.fit(X_train_scaled, y_train)\n",
    "\n",
    "# predict outcome on test data\n",
    "y_pred = rf_best.predict(X_test_scaled)\n",
    "y_pred\n",
    "\n",
    "ModelReport(y_test, y_pred)"
   ]
  },
  {
   "cell_type": "code",
   "execution_count": 143,
   "metadata": {},
   "outputs": [
    {
     "name": "stdout",
     "output_type": "stream",
     "text": [
      "Accuracy:  0.8526903553299492\n",
      "Confusion Matrix: \n",
      " [[2056  638]\n",
      " [ 813 6343]]\n",
      "Classification Report: \n",
      "               precision    recall  f1-score   support\n",
      "\n",
      "           0       0.72      0.76      0.74      2694\n",
      "           1       0.91      0.89      0.90      7156\n",
      "\n",
      "    accuracy                           0.85      9850\n",
      "   macro avg       0.81      0.82      0.82      9850\n",
      "weighted avg       0.86      0.85      0.85      9850\n",
      "\n",
      "ROC AUC Score:  0.8247832377438136\n"
     ]
    },
    {
     "data": {
      "image/png": "[encoded data removed]",
      "text/plain": [
       "<Figure size 432x288 with 1 Axes>"
      ]
     },
     "metadata": {
      "needs_background": "light"
     },
     "output_type": "display_data"
    }
   ],
   "source": [
    "# apply neural network to the data\n",
    "\n",
    "mlp = MLPClassifier(hidden_layer_sizes=(150, 100, 50), max_iter=800, solver='adam', activation='logistic', random_state=20144717)\n",
    "mlp.fit(X_train_scaled, y_train)\n",
    "\n",
    "# predict outcome on test data\n",
    "y_pred = mlp.predict(X_test_scaled)\n",
    "y_pred\n",
    "\n",
    "# check accuracy of model\n",
    "accuracy_score(y_test, y_pred)\n",
    "\n",
    "ModelReport(y_test, y_pred)"
   ]
  },
  {
   "cell_type": "code",
   "execution_count": 144,
   "metadata": {},
   "outputs": [
    {
     "data": {
      "image/png": "[encoded data removed]",
      "text/plain": [
       "<Figure size 432x288 with 1 Axes>"
      ]
     },
     "metadata": {
      "needs_background": "light"
     },
     "output_type": "display_data"
    }
   ],
   "source": [
    "# plot loss curve\n",
    "plt.plot(mlp.loss_curve_)\n",
    "plt.xlabel('Iterations')\n",
    "plt.ylabel('Loss')\n",
    "plt.title('Loss Curve')\n",
    "plt.show()"
   ]
  },
  {
   "cell_type": "code",
   "execution_count": 145,
   "metadata": {},
   "outputs": [
    {
     "name": "stdout",
     "output_type": "stream",
     "text": [
      "Accuracy:  0.8662944162436548\n",
      "Confusion Matrix: \n",
      " [[2118  576]\n",
      " [ 741 6415]]\n",
      "Classification Report: \n",
      "               precision    recall  f1-score   support\n",
      "\n",
      "           0       0.74      0.79      0.76      2694\n",
      "           1       0.92      0.90      0.91      7156\n",
      "\n",
      "    accuracy                           0.87      9850\n",
      "   macro avg       0.83      0.84      0.83      9850\n",
      "weighted avg       0.87      0.87      0.87      9850\n",
      "\n",
      "ROC AUC Score:  0.8413210338856237\n"
     ]
    },
    {
     "data": {
      "image/png": "[encoded data removed]",
      "text/plain": [
       "<Figure size 432x288 with 1 Axes>"
      ]
     },
     "metadata": {
      "needs_background": "light"
     },
     "output_type": "display_data"
    }
   ],
   "source": [
    "# apply neural network to the data with different layer approach\n",
    "\n",
    "mlp = MLPClassifier(hidden_layer_sizes=(200,), max_iter=800, solver='adam', activation='logistic', random_state=20144717)\n",
    "mlp.fit(X_train_scaled, y_train)\n",
    "\n",
    "# predict outcome on test data\n",
    "y_pred = mlp.predict(X_test_scaled)\n",
    "y_pred\n",
    "\n",
    "ModelReport(y_test, y_pred)"
   ]
  },
  {
   "cell_type": "code",
   "execution_count": 146,
   "metadata": {},
   "outputs": [
    {
     "data": {
      "image/png": "[encoded data removed]",
      "text/plain": [
       "<Figure size 432x288 with 1 Axes>"
      ]
     },
     "metadata": {
      "needs_background": "light"
     },
     "output_type": "display_data"
    }
   ],
   "source": [
    "# plot loss curve\n",
    "plt.plot(mlp.loss_curve_)\n",
    "plt.xlabel('Iterations')\n",
    "plt.ylabel('Loss')\n",
    "plt.title('Loss Curve')\n",
    "plt.show()"
   ]
  },
  {
   "cell_type": "code",
   "execution_count": 147,
   "metadata": {},
   "outputs": [
    {
     "name": "stdout",
     "output_type": "stream",
     "text": [
      "Accuracy:  0.8744162436548223\n",
      "Confusion Matrix: \n",
      " [[2166  528]\n",
      " [ 709 6447]]\n",
      "Classification Report: \n",
      "               precision    recall  f1-score   support\n",
      "\n",
      "           0       0.75      0.80      0.78      2694\n",
      "           1       0.92      0.90      0.91      7156\n",
      "\n",
      "    accuracy                           0.87      9850\n",
      "   macro avg       0.84      0.85      0.85      9850\n",
      "weighted avg       0.88      0.87      0.88      9850\n",
      "\n",
      "ROC AUC Score:  0.8524656058242589\n"
     ]
    },
    {
     "data": {
      "image/png": "[encoded data removed]",
      "text/plain": [
       "<Figure size 432x288 with 1 Axes>"
      ]
     },
     "metadata": {
      "needs_background": "light"
     },
     "output_type": "display_data"
    }
   ],
   "source": [
    "# apply neural network to the data with different activation function\n",
    "\n",
    "mlp = MLPClassifier(hidden_layer_sizes=(200,), max_iter=500, solver='adam', activation='relu', random_state=20144717)\n",
    "mlp.fit(X_train_scaled, y_train)\n",
    "\n",
    "# predict outcome on test data\n",
    "y_pred = mlp.predict(X_test_scaled)\n",
    "y_pred\n",
    "\n",
    "ModelReport(y_test, y_pred)"
   ]
  },
  {
   "cell_type": "code",
   "execution_count": 148,
   "metadata": {},
   "outputs": [
    {
     "data": {
      "image/png": "[encoded data removed]",
      "text/plain": [
       "<Figure size 432x288 with 1 Axes>"
      ]
     },
     "metadata": {
      "needs_background": "light"
     },
     "output_type": "display_data"
    }
   ],
   "source": [
    "# plot loss curve\n",
    "plt.plot(mlp.loss_curve_)\n",
    "plt.xlabel('Iterations')\n",
    "plt.ylabel('Loss')\n",
    "plt.title('Loss Curve')\n",
    "plt.show()"
   ]
  }
 ],
 "metadata": {
  "kernelspec": {
   "display_name": "Python 3.10.6 64-bit",
   "language": "python",
   "name": "python3"
  },
  "language_info": {
   "codemirror_mode": {
    "name": "ipython",
    "version": 3
   },
   "file_extension": ".py",
   "mimetype": "text/x-python",
   "name": "python",
   "nbconvert_exporter": "python",
   "pygments_lexer": "ipython3",
   "version": "3.10.6"
  },
  "orig_nbformat": 4,
  "vscode": {
   "interpreter": {
    "hash": "b9166679b7960eae5ec60905c6de7fbf69f74d8b9abd3b590631149d05e19d3c"
   }
  }
 },
 "nbformat": 4,
 "nbformat_minor": 2
}
